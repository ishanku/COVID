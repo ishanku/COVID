{
 "cells": [
  {
   "cell_type": "code",
   "execution_count": 107,
   "metadata": {},
   "outputs": [],
   "source": [
    "# Import Dependencies\n",
    "import sqlalchemy\n",
    "from sqlalchemy.ext.automap import automap_base\n",
    "from sqlalchemy.orm import Session\n",
    "from sqlalchemy import create_engine, func, inspect\n",
    "import psycopg2\n",
    "import decimal"
   ]
  },
  {
   "cell_type": "code",
   "execution_count": 9,
   "metadata": {},
   "outputs": [],
   "source": [
    "Base = automap_base()\n",
    "connection_string = \"gtuser:rpython2020@104.197.208.53:5432/covid\"\n",
    "engine = create_engine(f'postgresql://{connection_string}', echo=False)"
   ]
  },
  {
   "cell_type": "code",
   "execution_count": 10,
   "metadata": {},
   "outputs": [],
   "source": [
    "Base.prepare(engine, reflect=True)"
   ]
  },
  {
   "cell_type": "code",
   "execution_count": 15,
   "metadata": {},
   "outputs": [],
   "source": [
    "inspector = inspect(engine)"
   ]
  },
  {
   "cell_type": "code",
   "execution_count": 18,
   "metadata": {},
   "outputs": [
    {
     "name": "stdout",
     "output_type": "stream",
     "text": [
      "dateRep VARCHAR(50)\n",
      "day INTEGER\n",
      "month INTEGER\n",
      "year INTEGER\n",
      "cases INTEGER\n",
      "deaths INTEGER\n",
      "countriesAndTerritories VARCHAR(255)\n",
      "geoId VARCHAR(255)\n",
      "countryterritoryCode VARCHAR(255)\n",
      "popData2018 INTEGER\n"
     ]
    }
   ],
   "source": [
    "columns = inspector.get_columns('c19')\n",
    "for column in columns:\n",
    "    print(column[\"name\"], column[\"type\"])"
   ]
  },
  {
   "cell_type": "code",
   "execution_count": 30,
   "metadata": {},
   "outputs": [],
   "source": [
    "from flask import jsonify\n",
    "import numpy as np"
   ]
  },
  {
   "cell_type": "code",
   "execution_count": 22,
   "metadata": {},
   "outputs": [],
   "source": [
    "user=\"gtuser\"\n",
    "password=\"rpython2020\"\n",
    "host=\"104.197.208.53\"\n",
    "port=\"5432\"\n",
    "database=\"covid\"\n",
    "connection_string = f\"{user}:{password}@{host}:{port}/{database}\"\n",
    "engine = create_engine(f'postgresql://{connection_string}')\n",
    "tables=\"country\""
   ]
  },
  {
   "cell_type": "code",
   "execution_count": 23,
   "metadata": {},
   "outputs": [],
   "source": [
    "conn = psycopg2.connect(host=host, port = port, database=database, user=user, password=password)\n",
    "cur = conn.cursor()\n",
    "cur.execute(f\"\"\"SELECT * FROM {tables}\"\"\")\n",
    "results = cur.fetchall()\n",
    "conn.close()"
   ]
  },
  {
   "cell_type": "code",
   "execution_count": 42,
   "metadata": {},
   "outputs": [],
   "source": [
    "v=(str(list(np.ravel(results)))).replace('Decimal(','').replace(')','')"
   ]
  },
  {
   "cell_type": "code",
   "execution_count": 98,
   "metadata": {},
   "outputs": [
    {
     "ename": "TypeError",
     "evalue": "'str' object is not callable",
     "output_type": "error",
     "traceback": [
      "\u001b[0;31m---------------------------------------------------------------------------\u001b[0m",
      "\u001b[0;31mTypeError\u001b[0m                                 Traceback (most recent call last)",
      "\u001b[0;32m<ipython-input-98-aae51aa51dac>\u001b[0m in \u001b[0;36m<module>\u001b[0;34m\u001b[0m\n\u001b[0;32m----> 1\u001b[0;31m \u001b[0mstr\u001b[0m\u001b[0;34m(\u001b[0m\u001b[0mlist\u001b[0m\u001b[0;34m(\u001b[0m\u001b[0mnp\u001b[0m\u001b[0;34m.\u001b[0m\u001b[0mravel\u001b[0m\u001b[0;34m(\u001b[0m\u001b[0mresults\u001b[0m\u001b[0;34m)\u001b[0m\u001b[0;34m)\u001b[0m\u001b[0;34m)\u001b[0m\u001b[0;34m\u001b[0m\u001b[0;34m\u001b[0m\u001b[0m\n\u001b[0m",
      "\u001b[0;31mTypeError\u001b[0m: 'str' object is not callable"
     ]
    }
   ],
   "source": [
    "str(list(np.ravel(results)))"
   ]
  },
  {
   "cell_type": "code",
   "execution_count": 99,
   "metadata": {},
   "outputs": [],
   "source": [
    "data=list(np.ravel(results))"
   ]
  },
  {
   "cell_type": "code",
   "execution_count": 57,
   "metadata": {},
   "outputs": [],
   "source": [
    "def convertTuple1(tup): \n",
    "    str =  ''.join(tup) \n",
    "    return str"
   ]
  },
  {
   "cell_type": "code",
   "execution_count": 105,
   "metadata": {},
   "outputs": [],
   "source": [
    "import functools \n",
    "import operator  \n",
    "  \n",
    "def convertTuple(tup): \n",
    "    str = functools.reduce(operator.add, (tup)) \n",
    "    return str"
   ]
  },
  {
   "cell_type": "code",
   "execution_count": 170,
   "metadata": {},
   "outputs": [],
   "source": [
    "df=pd.DataFrame()\n",
    "for r in results:\n",
    "    tmp_df=pd.DataFrame({\"name\":[r[0]],\"country\":[r[1]],\"latitude\":[r[2]],\"longitude\":[r[3]]})\n",
    "    df=df.append(tmp_df)"
   ]
  },
  {
   "cell_type": "code",
   "execution_count": 175,
   "metadata": {},
   "outputs": [],
   "source": [
    "df=df.reset_index().drop(columns=['index'])to_json(orient=\"records\")"
   ]
  },
  {
   "cell_type": "code",
   "execution_count": 176,
   "metadata": {},
   "outputs": [
    {
     "data": {
      "text/html": [
       "<div>\n",
       "<style scoped>\n",
       "    .dataframe tbody tr th:only-of-type {\n",
       "        vertical-align: middle;\n",
       "    }\n",
       "\n",
       "    .dataframe tbody tr th {\n",
       "        vertical-align: top;\n",
       "    }\n",
       "\n",
       "    .dataframe thead th {\n",
       "        text-align: right;\n",
       "    }\n",
       "</style>\n",
       "<table border=\"1\" class=\"dataframe\">\n",
       "  <thead>\n",
       "    <tr style=\"text-align: right;\">\n",
       "      <th></th>\n",
       "      <th>name</th>\n",
       "      <th>country</th>\n",
       "      <th>latitude</th>\n",
       "      <th>longitude</th>\n",
       "    </tr>\n",
       "  </thead>\n",
       "  <tbody>\n",
       "    <tr>\n",
       "      <th>0</th>\n",
       "      <td>Andorra</td>\n",
       "      <td>AD</td>\n",
       "      <td>42.546245</td>\n",
       "      <td>1.601554</td>\n",
       "    </tr>\n",
       "    <tr>\n",
       "      <th>1</th>\n",
       "      <td>United Arab Emirates</td>\n",
       "      <td>AE</td>\n",
       "      <td>23.424076</td>\n",
       "      <td>53.847818</td>\n",
       "    </tr>\n",
       "    <tr>\n",
       "      <th>2</th>\n",
       "      <td>Afghanistan</td>\n",
       "      <td>AF</td>\n",
       "      <td>33.93911</td>\n",
       "      <td>67.709953</td>\n",
       "    </tr>\n",
       "    <tr>\n",
       "      <th>3</th>\n",
       "      <td>Antigua and Barbuda</td>\n",
       "      <td>AG</td>\n",
       "      <td>17.060816</td>\n",
       "      <td>-61.796428</td>\n",
       "    </tr>\n",
       "    <tr>\n",
       "      <th>4</th>\n",
       "      <td>Anguilla</td>\n",
       "      <td>AI</td>\n",
       "      <td>18.220554</td>\n",
       "      <td>-63.068615</td>\n",
       "    </tr>\n",
       "  </tbody>\n",
       "</table>\n",
       "</div>"
      ],
      "text/plain": [
       "                   name country   latitude   longitude\n",
       "0               Andorra      AD  42.546245    1.601554\n",
       "1  United Arab Emirates      AE  23.424076   53.847818\n",
       "2           Afghanistan      AF   33.93911   67.709953\n",
       "3   Antigua and Barbuda      AG  17.060816  -61.796428\n",
       "4              Anguilla      AI  18.220554  -63.068615"
      ]
     },
     "execution_count": 176,
     "metadata": {},
     "output_type": "execute_result"
    }
   ],
   "source": [
    "df.head()"
   ]
  },
  {
   "cell_type": "code",
   "execution_count": 177,
   "metadata": {},
   "outputs": [
    {
     "data": {
      "text/plain": [
       "'[{\"name\":\"Andorra\",\"country\":\"AD\",\"latitude\":42.546245,\"longitude\":1.601554},{\"name\":\"United Arab Emirates\",\"country\":\"AE\",\"latitude\":23.424076,\"longitude\":53.847818},{\"name\":\"Afghanistan\",\"country\":\"AF\",\"latitude\":33.93911,\"longitude\":67.709953},{\"name\":\"Antigua and Barbuda\",\"country\":\"AG\",\"latitude\":17.060816,\"longitude\":-61.796428},{\"name\":\"Anguilla\",\"country\":\"AI\",\"latitude\":18.220554,\"longitude\":-63.068615},{\"name\":\"Albania\",\"country\":\"AL\",\"latitude\":41.153332,\"longitude\":20.168331},{\"name\":\"Armenia\",\"country\":\"AM\",\"latitude\":40.069099,\"longitude\":45.038189},{\"name\":\"Netherlands Antilles\",\"country\":\"AN\",\"latitude\":12.226079,\"longitude\":-69.060087},{\"name\":\"Angola\",\"country\":\"AO\",\"latitude\":-11.202692,\"longitude\":17.873887},{\"name\":\"Antarctica\",\"country\":\"AQ\",\"latitude\":-75.250973,\"longitude\":-0.071389},{\"name\":\"Argentina\",\"country\":\"AR\",\"latitude\":-38.416097,\"longitude\":-63.616672},{\"name\":\"American Samoa\",\"country\":\"AS\",\"latitude\":-14.270972,\"longitude\":-170.132217},{\"name\":\"Austria\",\"country\":\"AT\",\"latitude\":47.516231,\"longitude\":14.550072},{\"name\":\"Australia\",\"country\":\"AU\",\"latitude\":-25.274398,\"longitude\":133.775136},{\"name\":\"Aruba\",\"country\":\"AW\",\"latitude\":12.52111,\"longitude\":-69.968338},{\"name\":\"Azerbaijan\",\"country\":\"AZ\",\"latitude\":40.143105,\"longitude\":47.576927},{\"name\":\"Bosnia and Herzegovina\",\"country\":\"BA\",\"latitude\":43.915886,\"longitude\":17.679076},{\"name\":\"Barbados\",\"country\":\"BB\",\"latitude\":13.193887,\"longitude\":-59.543198},{\"name\":\"Bangladesh\",\"country\":\"BD\",\"latitude\":23.684994,\"longitude\":90.356331},{\"name\":\"Belgium\",\"country\":\"BE\",\"latitude\":50.503887,\"longitude\":4.469936},{\"name\":\"Burkina Faso\",\"country\":\"BF\",\"latitude\":12.238333,\"longitude\":-1.561593},{\"name\":\"Bulgaria\",\"country\":\"BG\",\"latitude\":42.733883,\"longitude\":25.48583},{\"name\":\"Bahrain\",\"country\":\"BH\",\"latitude\":25.930414,\"longitude\":50.637772},{\"name\":\"Burundi\",\"country\":\"BI\",\"latitude\":-3.373056,\"longitude\":29.918886},{\"name\":\"Benin\",\"country\":\"BJ\",\"latitude\":9.30769,\"longitude\":2.315834},{\"name\":\"Bermuda\",\"country\":\"BM\",\"latitude\":32.321384,\"longitude\":-64.75737},{\"name\":\"Brunei\",\"country\":\"BN\",\"latitude\":4.535277,\"longitude\":114.727669},{\"name\":\"Bolivia\",\"country\":\"BO\",\"latitude\":-16.290154,\"longitude\":-63.588653},{\"name\":\"Brazil\",\"country\":\"BR\",\"latitude\":-14.235004,\"longitude\":-51.92528},{\"name\":\"Bahamas\",\"country\":\"BS\",\"latitude\":25.03428,\"longitude\":-77.39628},{\"name\":\"Bhutan\",\"country\":\"BT\",\"latitude\":27.514162,\"longitude\":90.433601},{\"name\":\"Bouvet Island\",\"country\":\"BV\",\"latitude\":-54.423199,\"longitude\":3.413194},{\"name\":\"Botswana\",\"country\":\"BW\",\"latitude\":-22.328474,\"longitude\":24.684866},{\"name\":\"Belarus\",\"country\":\"BY\",\"latitude\":53.709807,\"longitude\":27.953389},{\"name\":\"Belize\",\"country\":\"BZ\",\"latitude\":17.189877,\"longitude\":-88.49765},{\"name\":\"Canada\",\"country\":\"CA\",\"latitude\":56.130366,\"longitude\":-106.346771},{\"name\":\"Cocos [Keeling] Islands\",\"country\":\"CC\",\"latitude\":-12.164165,\"longitude\":96.870956},{\"name\":\"Congo [DRC]\",\"country\":\"CD\",\"latitude\":-4.038333,\"longitude\":21.758664},{\"name\":\"Central African Republic\",\"country\":\"CF\",\"latitude\":6.611111,\"longitude\":20.939444},{\"name\":\"Congo [Republic]\",\"country\":\"CG\",\"latitude\":-0.228021,\"longitude\":15.827659},{\"name\":\"Switzerland\",\"country\":\"CH\",\"latitude\":46.818188,\"longitude\":8.227512},{\"name\":\"C\\\\u00f4te d\\'Ivoire\",\"country\":\"CI\",\"latitude\":7.539989,\"longitude\":-5.54708},{\"name\":\"Cook Islands\",\"country\":\"CK\",\"latitude\":-21.236736,\"longitude\":-159.777671},{\"name\":\"Chile\",\"country\":\"CL\",\"latitude\":-35.675147,\"longitude\":-71.542969},{\"name\":\"Cameroon\",\"country\":\"CM\",\"latitude\":7.369722,\"longitude\":12.354722},{\"name\":\"China\",\"country\":\"CN\",\"latitude\":35.86166,\"longitude\":104.195397},{\"name\":\"Colombia\",\"country\":\"CO\",\"latitude\":4.570868,\"longitude\":-74.297333},{\"name\":\"Costa Rica\",\"country\":\"CR\",\"latitude\":9.748917,\"longitude\":-83.753428},{\"name\":\"Cuba\",\"country\":\"CU\",\"latitude\":21.521757,\"longitude\":-77.781167},{\"name\":\"Cape Verde\",\"country\":\"CV\",\"latitude\":16.002082,\"longitude\":-24.013197},{\"name\":\"Christmas Island\",\"country\":\"CX\",\"latitude\":-10.447525,\"longitude\":105.690449},{\"name\":\"Cyprus\",\"country\":\"CY\",\"latitude\":35.126413,\"longitude\":33.429859},{\"name\":\"Czech Republic\",\"country\":\"CZ\",\"latitude\":49.817492,\"longitude\":15.472962},{\"name\":\"Germany\",\"country\":\"DE\",\"latitude\":51.165691,\"longitude\":10.451526},{\"name\":\"Djibouti\",\"country\":\"DJ\",\"latitude\":11.825138,\"longitude\":42.590275},{\"name\":\"Denmark\",\"country\":\"DK\",\"latitude\":56.26392,\"longitude\":9.501785},{\"name\":\"Dominica\",\"country\":\"DM\",\"latitude\":15.414999,\"longitude\":-61.370976},{\"name\":\"Dominican Republic\",\"country\":\"DO\",\"latitude\":18.735693,\"longitude\":-70.162651},{\"name\":\"Algeria\",\"country\":\"DZ\",\"latitude\":28.033886,\"longitude\":1.659626},{\"name\":\"Ecuador\",\"country\":\"EC\",\"latitude\":-1.831239,\"longitude\":-78.183406},{\"name\":\"Estonia\",\"country\":\"EE\",\"latitude\":58.595272,\"longitude\":25.013607},{\"name\":\"Egypt\",\"country\":\"EG\",\"latitude\":26.820553,\"longitude\":30.802498},{\"name\":\"Western Sahara\",\"country\":\"EH\",\"latitude\":24.215527,\"longitude\":-12.885834},{\"name\":\"Eritrea\",\"country\":\"ER\",\"latitude\":15.179384,\"longitude\":39.782334},{\"name\":\"Spain\",\"country\":\"ES\",\"latitude\":40.463667,\"longitude\":-3.74922},{\"name\":\"Ethiopia\",\"country\":\"ET\",\"latitude\":9.145,\"longitude\":40.489673},{\"name\":\"Finland\",\"country\":\"FI\",\"latitude\":61.92411,\"longitude\":25.748151},{\"name\":\"Fiji\",\"country\":\"FJ\",\"latitude\":-16.578193,\"longitude\":179.414413},{\"name\":\"Falkland Islands [Islas Malvinas]\",\"country\":\"FK\",\"latitude\":-51.796253,\"longitude\":-59.523613},{\"name\":\"Micronesia\",\"country\":\"FM\",\"latitude\":7.425554,\"longitude\":150.550812},{\"name\":\"Faroe Islands\",\"country\":\"FO\",\"latitude\":61.892635,\"longitude\":-6.911806},{\"name\":\"France\",\"country\":\"FR\",\"latitude\":46.227638,\"longitude\":2.213749},{\"name\":\"Gabon\",\"country\":\"GA\",\"latitude\":-0.803689,\"longitude\":11.609444},{\"name\":\"United Kingdom\",\"country\":\"GB\",\"latitude\":55.378051,\"longitude\":-3.435973},{\"name\":\"Grenada\",\"country\":\"GD\",\"latitude\":12.262776,\"longitude\":-61.604171},{\"name\":\"Georgia\",\"country\":\"GE\",\"latitude\":42.315407,\"longitude\":43.356892},{\"name\":\"French Guiana\",\"country\":\"GF\",\"latitude\":3.933889,\"longitude\":-53.125782},{\"name\":\"Guernsey\",\"country\":\"GG\",\"latitude\":49.465691,\"longitude\":-2.585278},{\"name\":\"Ghana\",\"country\":\"GH\",\"latitude\":7.946527,\"longitude\":-1.023194},{\"name\":\"Gibraltar\",\"country\":\"GI\",\"latitude\":36.137741,\"longitude\":-5.345374},{\"name\":\"Greenland\",\"country\":\"GL\",\"latitude\":71.706936,\"longitude\":-42.604303},{\"name\":\"Gambia\",\"country\":\"GM\",\"latitude\":13.443182,\"longitude\":-15.310139},{\"name\":\"Guinea\",\"country\":\"GN\",\"latitude\":9.945587,\"longitude\":-9.696645},{\"name\":\"Guadeloupe\",\"country\":\"GP\",\"latitude\":16.995971,\"longitude\":-62.067641},{\"name\":\"Equatorial Guinea\",\"country\":\"GQ\",\"latitude\":1.650801,\"longitude\":10.267895},{\"name\":\"Greece\",\"country\":\"GR\",\"latitude\":39.074208,\"longitude\":21.824312},{\"name\":\"South Georgia and the South Sandwich Islands\",\"country\":\"GS\",\"latitude\":-54.429579,\"longitude\":-36.587909},{\"name\":\"Guatemala\",\"country\":\"GT\",\"latitude\":15.783471,\"longitude\":-90.230759},{\"name\":\"Guam\",\"country\":\"GU\",\"latitude\":13.444304,\"longitude\":144.793731},{\"name\":\"Guinea-Bissau\",\"country\":\"GW\",\"latitude\":11.803749,\"longitude\":-15.180413},{\"name\":\"Guyana\",\"country\":\"GY\",\"latitude\":4.860416,\"longitude\":-58.93018},{\"name\":\"Gaza Strip\",\"country\":\"GZ\",\"latitude\":31.354676,\"longitude\":34.308825},{\"name\":\"Hong Kong\",\"country\":\"HK\",\"latitude\":22.396428,\"longitude\":114.109497},{\"name\":\"Heard Island and McDonald Islands\",\"country\":\"HM\",\"latitude\":-53.08181,\"longitude\":73.504158},{\"name\":\"Honduras\",\"country\":\"HN\",\"latitude\":15.199999,\"longitude\":-86.241905},{\"name\":\"Croatia\",\"country\":\"HR\",\"latitude\":45.1,\"longitude\":15.2},{\"name\":\"Haiti\",\"country\":\"HT\",\"latitude\":18.971187,\"longitude\":-72.285215},{\"name\":\"Hungary\",\"country\":\"HU\",\"latitude\":47.162494,\"longitude\":19.503304},{\"name\":\"Indonesia\",\"country\":\"ID\",\"latitude\":-0.789275,\"longitude\":113.921327},{\"name\":\"Ireland\",\"country\":\"IE\",\"latitude\":53.41291,\"longitude\":-8.24389},{\"name\":\"Israel\",\"country\":\"IL\",\"latitude\":31.046051,\"longitude\":34.851612},{\"name\":\"Isle of Man\",\"country\":\"IM\",\"latitude\":54.236107,\"longitude\":-4.548056},{\"name\":\"India\",\"country\":\"IN\",\"latitude\":20.593684,\"longitude\":78.96288},{\"name\":\"British Indian Ocean Territory\",\"country\":\"IO\",\"latitude\":-6.343194,\"longitude\":71.876519},{\"name\":\"Iraq\",\"country\":\"IQ\",\"latitude\":33.223191,\"longitude\":43.679291},{\"name\":\"Iran\",\"country\":\"IR\",\"latitude\":32.427908,\"longitude\":53.688046},{\"name\":\"Iceland\",\"country\":\"IS\",\"latitude\":64.963051,\"longitude\":-19.020835},{\"name\":\"Italy\",\"country\":\"IT\",\"latitude\":41.87194,\"longitude\":12.56738},{\"name\":\"Jersey\",\"country\":\"JE\",\"latitude\":49.214439,\"longitude\":-2.13125},{\"name\":\"Jamaica\",\"country\":\"JM\",\"latitude\":18.109581,\"longitude\":-77.297508},{\"name\":\"Jordan\",\"country\":\"JO\",\"latitude\":30.585164,\"longitude\":36.238414},{\"name\":\"Japan\",\"country\":\"JP\",\"latitude\":36.204824,\"longitude\":138.252924},{\"name\":\"Kenya\",\"country\":\"KE\",\"latitude\":-0.023559,\"longitude\":37.906193},{\"name\":\"Kyrgyzstan\",\"country\":\"KG\",\"latitude\":41.20438,\"longitude\":74.766098},{\"name\":\"Cambodia\",\"country\":\"KH\",\"latitude\":12.565679,\"longitude\":104.990963},{\"name\":\"Kiribati\",\"country\":\"KI\",\"latitude\":-3.370417,\"longitude\":-168.734039},{\"name\":\"Comoros\",\"country\":\"KM\",\"latitude\":-11.875001,\"longitude\":43.872219},{\"name\":\"Saint Kitts and Nevis\",\"country\":\"KN\",\"latitude\":17.357822,\"longitude\":-62.782998},{\"name\":\"North Korea\",\"country\":\"KP\",\"latitude\":40.339852,\"longitude\":127.510093},{\"name\":\"South Korea\",\"country\":\"KR\",\"latitude\":35.907757,\"longitude\":127.766922},{\"name\":\"Kuwait\",\"country\":\"KW\",\"latitude\":29.31166,\"longitude\":47.481766},{\"name\":\"Cayman Islands\",\"country\":\"KY\",\"latitude\":19.513469,\"longitude\":-80.566956},{\"name\":\"Kazakhstan\",\"country\":\"KZ\",\"latitude\":48.019573,\"longitude\":66.923684},{\"name\":\"Laos\",\"country\":\"LA\",\"latitude\":19.85627,\"longitude\":102.495496},{\"name\":\"Lebanon\",\"country\":\"LB\",\"latitude\":33.854721,\"longitude\":35.862285},{\"name\":\"Saint Lucia\",\"country\":\"LC\",\"latitude\":13.909444,\"longitude\":-60.978893},{\"name\":\"Liechtenstein\",\"country\":\"LI\",\"latitude\":47.166,\"longitude\":9.555373},{\"name\":\"Sri Lanka\",\"country\":\"LK\",\"latitude\":7.873054,\"longitude\":80.771797},{\"name\":\"Liberia\",\"country\":\"LR\",\"latitude\":6.428055,\"longitude\":-9.429499},{\"name\":\"Lesotho\",\"country\":\"LS\",\"latitude\":-29.609988,\"longitude\":28.233608},{\"name\":\"Lithuania\",\"country\":\"LT\",\"latitude\":55.169438,\"longitude\":23.881275},{\"name\":\"Luxembourg\",\"country\":\"LU\",\"latitude\":49.815273,\"longitude\":6.129583},{\"name\":\"Latvia\",\"country\":\"LV\",\"latitude\":56.879635,\"longitude\":24.603189},{\"name\":\"Libya\",\"country\":\"LY\",\"latitude\":26.3351,\"longitude\":17.228331},{\"name\":\"Morocco\",\"country\":\"MA\",\"latitude\":31.791702,\"longitude\":-7.09262},{\"name\":\"Monaco\",\"country\":\"MC\",\"latitude\":43.750298,\"longitude\":7.412841},{\"name\":\"Moldova\",\"country\":\"MD\",\"latitude\":47.411631,\"longitude\":28.369885},{\"name\":\"Montenegro\",\"country\":\"ME\",\"latitude\":42.708678,\"longitude\":19.37439},{\"name\":\"Madagascar\",\"country\":\"MG\",\"latitude\":-18.766947,\"longitude\":46.869107},{\"name\":\"Marshall Islands\",\"country\":\"MH\",\"latitude\":7.131474,\"longitude\":171.184478},{\"name\":\"Macedonia [FYROM]\",\"country\":\"MK\",\"latitude\":41.608635,\"longitude\":21.745275},{\"name\":\"Mali\",\"country\":\"ML\",\"latitude\":17.570692,\"longitude\":-3.996166},{\"name\":\"Myanmar [Burma]\",\"country\":\"MM\",\"latitude\":21.913965,\"longitude\":95.956223},{\"name\":\"Mongolia\",\"country\":\"MN\",\"latitude\":46.862496,\"longitude\":103.846656},{\"name\":\"Macau\",\"country\":\"MO\",\"latitude\":22.198745,\"longitude\":113.543873},{\"name\":\"Northern Mariana Islands\",\"country\":\"MP\",\"latitude\":17.33083,\"longitude\":145.38469},{\"name\":\"Martinique\",\"country\":\"MQ\",\"latitude\":14.641528,\"longitude\":-61.024174},{\"name\":\"Mauritania\",\"country\":\"MR\",\"latitude\":21.00789,\"longitude\":-10.940835},{\"name\":\"Montserrat\",\"country\":\"MS\",\"latitude\":16.742498,\"longitude\":-62.187366},{\"name\":\"Malta\",\"country\":\"MT\",\"latitude\":35.937496,\"longitude\":14.375416},{\"name\":\"Mauritius\",\"country\":\"MU\",\"latitude\":-20.348404,\"longitude\":57.552152},{\"name\":\"Maldives\",\"country\":\"MV\",\"latitude\":3.202778,\"longitude\":73.22068},{\"name\":\"Malawi\",\"country\":\"MW\",\"latitude\":-13.254308,\"longitude\":34.301525},{\"name\":\"Mexico\",\"country\":\"MX\",\"latitude\":23.634501,\"longitude\":-102.552784},{\"name\":\"Malaysia\",\"country\":\"MY\",\"latitude\":4.210484,\"longitude\":101.975766},{\"name\":\"Mozambique\",\"country\":\"MZ\",\"latitude\":-18.665695,\"longitude\":35.529562},{\"name\":\"Namibia\",\"country\":\"NA\",\"latitude\":-22.95764,\"longitude\":18.49041},{\"name\":\"New Caledonia\",\"country\":\"NC\",\"latitude\":-20.904305,\"longitude\":165.618042},{\"name\":\"Niger\",\"country\":\"NE\",\"latitude\":17.607789,\"longitude\":8.081666},{\"name\":\"Norfolk Island\",\"country\":\"NF\",\"latitude\":-29.040835,\"longitude\":167.954712},{\"name\":\"Nigeria\",\"country\":\"NG\",\"latitude\":9.081999,\"longitude\":8.675277},{\"name\":\"Nicaragua\",\"country\":\"NI\",\"latitude\":12.865416,\"longitude\":-85.207229},{\"name\":\"Netherlands\",\"country\":\"NL\",\"latitude\":52.132633,\"longitude\":5.291266},{\"name\":\"Norway\",\"country\":\"NO\",\"latitude\":60.472024,\"longitude\":8.468946},{\"name\":\"Nepal\",\"country\":\"NP\",\"latitude\":28.394857,\"longitude\":84.124008},{\"name\":\"Nauru\",\"country\":\"NR\",\"latitude\":-0.522778,\"longitude\":166.931503},{\"name\":\"Niue\",\"country\":\"NU\",\"latitude\":-19.054445,\"longitude\":-169.867233},{\"name\":\"New Zealand\",\"country\":\"NZ\",\"latitude\":-40.900557,\"longitude\":174.885971},{\"name\":\"Oman\",\"country\":\"OM\",\"latitude\":21.512583,\"longitude\":55.923255},{\"name\":\"Panama\",\"country\":\"PA\",\"latitude\":8.537981,\"longitude\":-80.782127},{\"name\":\"Peru\",\"country\":\"PE\",\"latitude\":-9.189967,\"longitude\":-75.015152},{\"name\":\"French Polynesia\",\"country\":\"PF\",\"latitude\":-17.679742,\"longitude\":-149.406843},{\"name\":\"Papua New Guinea\",\"country\":\"PG\",\"latitude\":-6.314993,\"longitude\":143.95555},{\"name\":\"Philippines\",\"country\":\"PH\",\"latitude\":12.879721,\"longitude\":121.774017},{\"name\":\"Pakistan\",\"country\":\"PK\",\"latitude\":30.375321,\"longitude\":69.345116},{\"name\":\"Poland\",\"country\":\"PL\",\"latitude\":51.919438,\"longitude\":19.145136},{\"name\":\"Saint Pierre and Miquelon\",\"country\":\"PM\",\"latitude\":46.941936,\"longitude\":-56.27111},{\"name\":\"Pitcairn Islands\",\"country\":\"PN\",\"latitude\":-24.703615,\"longitude\":-127.439308},{\"name\":\"Puerto Rico\",\"country\":\"PR\",\"latitude\":18.220833,\"longitude\":-66.590149},{\"name\":\"Palestinian Territories\",\"country\":\"PS\",\"latitude\":31.952162,\"longitude\":35.233154},{\"name\":\"Portugal\",\"country\":\"PT\",\"latitude\":39.399872,\"longitude\":-8.224454},{\"name\":\"Palau\",\"country\":\"PW\",\"latitude\":7.51498,\"longitude\":134.58252},{\"name\":\"Paraguay\",\"country\":\"PY\",\"latitude\":-23.442503,\"longitude\":-58.443832},{\"name\":\"Qatar\",\"country\":\"QA\",\"latitude\":25.354826,\"longitude\":51.183884},{\"name\":\"R\\\\u00e9union\",\"country\":\"RE\",\"latitude\":-21.115141,\"longitude\":55.536384},{\"name\":\"Romania\",\"country\":\"RO\",\"latitude\":45.943161,\"longitude\":24.96676},{\"name\":\"Serbia\",\"country\":\"RS\",\"latitude\":44.016521,\"longitude\":21.005859},{\"name\":\"Russia\",\"country\":\"RU\",\"latitude\":61.52401,\"longitude\":105.318756},{\"name\":\"Rwanda\",\"country\":\"RW\",\"latitude\":-1.940278,\"longitude\":29.873888},{\"name\":\"Saudi Arabia\",\"country\":\"SA\",\"latitude\":23.885942,\"longitude\":45.079162},{\"name\":\"Solomon Islands\",\"country\":\"SB\",\"latitude\":-9.64571,\"longitude\":160.156194},{\"name\":\"Seychelles\",\"country\":\"SC\",\"latitude\":-4.679574,\"longitude\":55.491977},{\"name\":\"Sudan\",\"country\":\"SD\",\"latitude\":12.862807,\"longitude\":30.217636},{\"name\":\"Sweden\",\"country\":\"SE\",\"latitude\":60.128161,\"longitude\":18.643501},{\"name\":\"Singapore\",\"country\":\"SG\",\"latitude\":1.352083,\"longitude\":103.819836},{\"name\":\"Saint Helena\",\"country\":\"SH\",\"latitude\":-24.143474,\"longitude\":-10.030696},{\"name\":\"Slovenia\",\"country\":\"SI\",\"latitude\":46.151241,\"longitude\":14.995463},{\"name\":\"Svalbard and Jan Mayen\",\"country\":\"SJ\",\"latitude\":77.553604,\"longitude\":23.670272},{\"name\":\"Slovakia\",\"country\":\"SK\",\"latitude\":48.669026,\"longitude\":19.699024},{\"name\":\"Sierra Leone\",\"country\":\"SL\",\"latitude\":8.460555,\"longitude\":-11.779889},{\"name\":\"San Marino\",\"country\":\"SM\",\"latitude\":43.94236,\"longitude\":12.457777},{\"name\":\"Senegal\",\"country\":\"SN\",\"latitude\":14.497401,\"longitude\":-14.452362},{\"name\":\"Somalia\",\"country\":\"SO\",\"latitude\":5.152149,\"longitude\":46.199616},{\"name\":\"Suriname\",\"country\":\"SR\",\"latitude\":3.919305,\"longitude\":-56.027783},{\"name\":\"S\\\\u00e3o Tom\\\\u00e9 and Pr\\\\u00edncipe\",\"country\":\"ST\",\"latitude\":0.18636,\"longitude\":6.613081},{\"name\":\"El Salvador\",\"country\":\"SV\",\"latitude\":13.794185,\"longitude\":-88.89653},{\"name\":\"Syria\",\"country\":\"SY\",\"latitude\":34.802075,\"longitude\":38.996815},{\"name\":\"Swaziland\",\"country\":\"SZ\",\"latitude\":-26.522503,\"longitude\":31.465866},{\"name\":\"Turks and Caicos Islands\",\"country\":\"TC\",\"latitude\":21.694025,\"longitude\":-71.797928},{\"name\":\"Chad\",\"country\":\"TD\",\"latitude\":15.454166,\"longitude\":18.732207},{\"name\":\"French Southern Territories\",\"country\":\"TF\",\"latitude\":-49.280366,\"longitude\":69.348557},{\"name\":\"Togo\",\"country\":\"TG\",\"latitude\":8.619543,\"longitude\":0.824782},{\"name\":\"Thailand\",\"country\":\"TH\",\"latitude\":15.870032,\"longitude\":100.992541},{\"name\":\"Tajikistan\",\"country\":\"TJ\",\"latitude\":38.861034,\"longitude\":71.276093},{\"name\":\"Tokelau\",\"country\":\"TK\",\"latitude\":-8.967363,\"longitude\":-171.855881},{\"name\":\"Timor-Leste\",\"country\":\"TL\",\"latitude\":-8.874217,\"longitude\":125.727539},{\"name\":\"Turkmenistan\",\"country\":\"TM\",\"latitude\":38.969719,\"longitude\":59.556278},{\"name\":\"Tunisia\",\"country\":\"TN\",\"latitude\":33.886917,\"longitude\":9.537499},{\"name\":\"Tonga\",\"country\":\"TO\",\"latitude\":-21.178986,\"longitude\":-175.198242},{\"name\":\"Turkey\",\"country\":\"TR\",\"latitude\":38.963745,\"longitude\":35.243322},{\"name\":\"Trinidad and Tobago\",\"country\":\"TT\",\"latitude\":10.691803,\"longitude\":-61.222503},{\"name\":\"Tuvalu\",\"country\":\"TV\",\"latitude\":-7.109535,\"longitude\":177.64933},{\"name\":\"Taiwan\",\"country\":\"TW\",\"latitude\":23.69781,\"longitude\":120.960515},{\"name\":\"Tanzania\",\"country\":\"TZ\",\"latitude\":-6.369028,\"longitude\":34.888822},{\"name\":\"Ukraine\",\"country\":\"UA\",\"latitude\":48.379433,\"longitude\":31.16558},{\"name\":\"Uganda\",\"country\":\"UG\",\"latitude\":1.373333,\"longitude\":32.290275},{\"name\":\"U.S. Minor Outlying Islands\",\"country\":\"UM\",\"latitude\":null,\"longitude\":null},{\"name\":\"United States\",\"country\":\"US\",\"latitude\":37.09024,\"longitude\":-95.712891},{\"name\":\"Uruguay\",\"country\":\"UY\",\"latitude\":-32.522779,\"longitude\":-55.765835},{\"name\":\"Uzbekistan\",\"country\":\"UZ\",\"latitude\":41.377491,\"longitude\":64.585262},{\"name\":\"Vatican City\",\"country\":\"VA\",\"latitude\":41.902916,\"longitude\":12.453389},{\"name\":\"Saint Vincent and the Grenadines\",\"country\":\"VC\",\"latitude\":12.984305,\"longitude\":-61.287228},{\"name\":\"Venezuela\",\"country\":\"VE\",\"latitude\":6.42375,\"longitude\":-66.58973},{\"name\":\"British Virgin Islands\",\"country\":\"VG\",\"latitude\":18.420695,\"longitude\":-64.639968},{\"name\":\"U.S. Virgin Islands\",\"country\":\"VI\",\"latitude\":18.335765,\"longitude\":-64.896335},{\"name\":\"Vietnam\",\"country\":\"VN\",\"latitude\":14.058324,\"longitude\":108.277199},{\"name\":\"Vanuatu\",\"country\":\"VU\",\"latitude\":-15.376706,\"longitude\":166.959158},{\"name\":\"Wallis and Futuna\",\"country\":\"WF\",\"latitude\":-13.768752,\"longitude\":-177.156097},{\"name\":\"Samoa\",\"country\":\"WS\",\"latitude\":-13.759029,\"longitude\":-172.104629},{\"name\":\"Kosovo\",\"country\":\"XK\",\"latitude\":42.602636,\"longitude\":20.902977},{\"name\":\"Yemen\",\"country\":\"YE\",\"latitude\":15.552727,\"longitude\":48.516388},{\"name\":\"Mayotte\",\"country\":\"YT\",\"latitude\":-12.8275,\"longitude\":45.166244},{\"name\":\"South Africa\",\"country\":\"ZA\",\"latitude\":-30.559482,\"longitude\":22.937506},{\"name\":\"Zambia\",\"country\":\"ZM\",\"latitude\":-13.133897,\"longitude\":27.849332},{\"name\":\"Zimbabwe\",\"country\":\"ZW\",\"latitude\":-19.015438,\"longitude\":29.154857}]'"
      ]
     },
     "execution_count": 177,
     "metadata": {},
     "output_type": "execute_result"
    }
   ],
   "source": [
    "#df=df[['name','country','latitude','longitude']]\n",
    "df."
   ]
  },
  {
   "cell_type": "code",
   "execution_count": 109,
   "metadata": {},
   "outputs": [],
   "source": [
    "import pandas as pd\n",
    "i=0\n",
    "for r in results:\n",
    "    if i==0:\n",
    "        rav=list(np.ravel(r))\n",
    "        pd.DataFrame(rav)\n",
    "    i=i+1\n",
    "    \n",
    "#dec = decimal.Decimal('10.0')\n",
    "#str(dec)"
   ]
  },
  {
   "cell_type": "code",
   "execution_count": 118,
   "metadata": {},
   "outputs": [
    {
     "data": {
      "text/html": [
       "<div>\n",
       "<style scoped>\n",
       "    .dataframe tbody tr th:only-of-type {\n",
       "        vertical-align: middle;\n",
       "    }\n",
       "\n",
       "    .dataframe tbody tr th {\n",
       "        vertical-align: top;\n",
       "    }\n",
       "\n",
       "    .dataframe thead th {\n",
       "        text-align: right;\n",
       "    }\n",
       "</style>\n",
       "<table border=\"1\" class=\"dataframe\">\n",
       "  <thead>\n",
       "    <tr style=\"text-align: right;\">\n",
       "      <th></th>\n",
       "      <th>0</th>\n",
       "      <th>1</th>\n",
       "      <th>2</th>\n",
       "      <th>3</th>\n",
       "    </tr>\n",
       "  </thead>\n",
       "  <tbody>\n",
       "    <tr>\n",
       "      <th>0</th>\n",
       "      <td>Andorra</td>\n",
       "      <td>AD</td>\n",
       "      <td>42.546245</td>\n",
       "      <td>1.601554</td>\n",
       "    </tr>\n",
       "    <tr>\n",
       "      <th>1</th>\n",
       "      <td>United Arab Emirates</td>\n",
       "      <td>AE</td>\n",
       "      <td>23.424076</td>\n",
       "      <td>53.847818</td>\n",
       "    </tr>\n",
       "    <tr>\n",
       "      <th>2</th>\n",
       "      <td>Afghanistan</td>\n",
       "      <td>AF</td>\n",
       "      <td>33.93911</td>\n",
       "      <td>67.709953</td>\n",
       "    </tr>\n",
       "    <tr>\n",
       "      <th>3</th>\n",
       "      <td>Antigua and Barbuda</td>\n",
       "      <td>AG</td>\n",
       "      <td>17.060816</td>\n",
       "      <td>-61.796428</td>\n",
       "    </tr>\n",
       "    <tr>\n",
       "      <th>4</th>\n",
       "      <td>Anguilla</td>\n",
       "      <td>AI</td>\n",
       "      <td>18.220554</td>\n",
       "      <td>-63.068615</td>\n",
       "    </tr>\n",
       "    <tr>\n",
       "      <th>...</th>\n",
       "      <td>...</td>\n",
       "      <td>...</td>\n",
       "      <td>...</td>\n",
       "      <td>...</td>\n",
       "    </tr>\n",
       "    <tr>\n",
       "      <th>240</th>\n",
       "      <td>Yemen</td>\n",
       "      <td>YE</td>\n",
       "      <td>15.552727</td>\n",
       "      <td>48.516388</td>\n",
       "    </tr>\n",
       "    <tr>\n",
       "      <th>241</th>\n",
       "      <td>Mayotte</td>\n",
       "      <td>YT</td>\n",
       "      <td>-12.8275</td>\n",
       "      <td>45.166244</td>\n",
       "    </tr>\n",
       "    <tr>\n",
       "      <th>242</th>\n",
       "      <td>South Africa</td>\n",
       "      <td>ZA</td>\n",
       "      <td>-30.559482</td>\n",
       "      <td>22.937506</td>\n",
       "    </tr>\n",
       "    <tr>\n",
       "      <th>243</th>\n",
       "      <td>Zambia</td>\n",
       "      <td>ZM</td>\n",
       "      <td>-13.133897</td>\n",
       "      <td>27.849332</td>\n",
       "    </tr>\n",
       "    <tr>\n",
       "      <th>244</th>\n",
       "      <td>Zimbabwe</td>\n",
       "      <td>ZW</td>\n",
       "      <td>-19.015438</td>\n",
       "      <td>29.154857</td>\n",
       "    </tr>\n",
       "  </tbody>\n",
       "</table>\n",
       "<p>245 rows × 4 columns</p>\n",
       "</div>"
      ],
      "text/plain": [
       "                        0   1           2           3\n",
       "0                 Andorra  AD   42.546245    1.601554\n",
       "1    United Arab Emirates  AE   23.424076   53.847818\n",
       "2             Afghanistan  AF    33.93911   67.709953\n",
       "3     Antigua and Barbuda  AG   17.060816  -61.796428\n",
       "4                Anguilla  AI   18.220554  -63.068615\n",
       "..                    ...  ..         ...         ...\n",
       "240                 Yemen  YE   15.552727   48.516388\n",
       "241               Mayotte  YT    -12.8275   45.166244\n",
       "242          South Africa  ZA  -30.559482   22.937506\n",
       "243                Zambia  ZM  -13.133897   27.849332\n",
       "244              Zimbabwe  ZW  -19.015438   29.154857\n",
       "\n",
       "[245 rows x 4 columns]"
      ]
     },
     "execution_count": 118,
     "metadata": {},
     "output_type": "execute_result"
    }
   ],
   "source": [
    "df=pd.DataFrame(results)\n",
    "dfnew=df.rename(columns={\"0\": \"name\",\"1\":\"country\",\"2\":\"latitude\",\"3\":\"longitude\"})\n",
    "dfnew"
   ]
  },
  {
   "cell_type": "code",
   "execution_count": 145,
   "metadata": {},
   "outputs": [
    {
     "data": {
      "text/plain": [
       "'{\"0\":{\"0\":\"Andorra\",\"1\":\"United Arab Emirates\",\"2\":\"Afghanistan\",\"3\":\"Antigua and Barbuda\",\"4\":\"Anguilla\",\"5\":\"Albania\",\"6\":\"Armenia\",\"7\":\"Netherlands Antilles\",\"8\":\"Angola\",\"9\":\"Antarctica\",\"10\":\"Argentina\",\"11\":\"American Samoa\",\"12\":\"Austria\",\"13\":\"Australia\",\"14\":\"Aruba\",\"15\":\"Azerbaijan\",\"16\":\"Bosnia and Herzegovina\",\"17\":\"Barbados\",\"18\":\"Bangladesh\",\"19\":\"Belgium\",\"20\":\"Burkina Faso\",\"21\":\"Bulgaria\",\"22\":\"Bahrain\",\"23\":\"Burundi\",\"24\":\"Benin\",\"25\":\"Bermuda\",\"26\":\"Brunei\",\"27\":\"Bolivia\",\"28\":\"Brazil\",\"29\":\"Bahamas\",\"30\":\"Bhutan\",\"31\":\"Bouvet Island\",\"32\":\"Botswana\",\"33\":\"Belarus\",\"34\":\"Belize\",\"35\":\"Canada\",\"36\":\"Cocos [Keeling] Islands\",\"37\":\"Congo [DRC]\",\"38\":\"Central African Republic\",\"39\":\"Congo [Republic]\",\"40\":\"Switzerland\",\"41\":\"C\\\\u00f4te d\\'Ivoire\",\"42\":\"Cook Islands\",\"43\":\"Chile\",\"44\":\"Cameroon\",\"45\":\"China\",\"46\":\"Colombia\",\"47\":\"Costa Rica\",\"48\":\"Cuba\",\"49\":\"Cape Verde\",\"50\":\"Christmas Island\",\"51\":\"Cyprus\",\"52\":\"Czech Republic\",\"53\":\"Germany\",\"54\":\"Djibouti\",\"55\":\"Denmark\",\"56\":\"Dominica\",\"57\":\"Dominican Republic\",\"58\":\"Algeria\",\"59\":\"Ecuador\",\"60\":\"Estonia\",\"61\":\"Egypt\",\"62\":\"Western Sahara\",\"63\":\"Eritrea\",\"64\":\"Spain\",\"65\":\"Ethiopia\",\"66\":\"Finland\",\"67\":\"Fiji\",\"68\":\"Falkland Islands [Islas Malvinas]\",\"69\":\"Micronesia\",\"70\":\"Faroe Islands\",\"71\":\"France\",\"72\":\"Gabon\",\"73\":\"United Kingdom\",\"74\":\"Grenada\",\"75\":\"Georgia\",\"76\":\"French Guiana\",\"77\":\"Guernsey\",\"78\":\"Ghana\",\"79\":\"Gibraltar\",\"80\":\"Greenland\",\"81\":\"Gambia\",\"82\":\"Guinea\",\"83\":\"Guadeloupe\",\"84\":\"Equatorial Guinea\",\"85\":\"Greece\",\"86\":\"South Georgia and the South Sandwich Islands\",\"87\":\"Guatemala\",\"88\":\"Guam\",\"89\":\"Guinea-Bissau\",\"90\":\"Guyana\",\"91\":\"Gaza Strip\",\"92\":\"Hong Kong\",\"93\":\"Heard Island and McDonald Islands\",\"94\":\"Honduras\",\"95\":\"Croatia\",\"96\":\"Haiti\",\"97\":\"Hungary\",\"98\":\"Indonesia\",\"99\":\"Ireland\",\"100\":\"Israel\",\"101\":\"Isle of Man\",\"102\":\"India\",\"103\":\"British Indian Ocean Territory\",\"104\":\"Iraq\",\"105\":\"Iran\",\"106\":\"Iceland\",\"107\":\"Italy\",\"108\":\"Jersey\",\"109\":\"Jamaica\",\"110\":\"Jordan\",\"111\":\"Japan\",\"112\":\"Kenya\",\"113\":\"Kyrgyzstan\",\"114\":\"Cambodia\",\"115\":\"Kiribati\",\"116\":\"Comoros\",\"117\":\"Saint Kitts and Nevis\",\"118\":\"North Korea\",\"119\":\"South Korea\",\"120\":\"Kuwait\",\"121\":\"Cayman Islands\",\"122\":\"Kazakhstan\",\"123\":\"Laos\",\"124\":\"Lebanon\",\"125\":\"Saint Lucia\",\"126\":\"Liechtenstein\",\"127\":\"Sri Lanka\",\"128\":\"Liberia\",\"129\":\"Lesotho\",\"130\":\"Lithuania\",\"131\":\"Luxembourg\",\"132\":\"Latvia\",\"133\":\"Libya\",\"134\":\"Morocco\",\"135\":\"Monaco\",\"136\":\"Moldova\",\"137\":\"Montenegro\",\"138\":\"Madagascar\",\"139\":\"Marshall Islands\",\"140\":\"Macedonia [FYROM]\",\"141\":\"Mali\",\"142\":\"Myanmar [Burma]\",\"143\":\"Mongolia\",\"144\":\"Macau\",\"145\":\"Northern Mariana Islands\",\"146\":\"Martinique\",\"147\":\"Mauritania\",\"148\":\"Montserrat\",\"149\":\"Malta\",\"150\":\"Mauritius\",\"151\":\"Maldives\",\"152\":\"Malawi\",\"153\":\"Mexico\",\"154\":\"Malaysia\",\"155\":\"Mozambique\",\"156\":\"Namibia\",\"157\":\"New Caledonia\",\"158\":\"Niger\",\"159\":\"Norfolk Island\",\"160\":\"Nigeria\",\"161\":\"Nicaragua\",\"162\":\"Netherlands\",\"163\":\"Norway\",\"164\":\"Nepal\",\"165\":\"Nauru\",\"166\":\"Niue\",\"167\":\"New Zealand\",\"168\":\"Oman\",\"169\":\"Panama\",\"170\":\"Peru\",\"171\":\"French Polynesia\",\"172\":\"Papua New Guinea\",\"173\":\"Philippines\",\"174\":\"Pakistan\",\"175\":\"Poland\",\"176\":\"Saint Pierre and Miquelon\",\"177\":\"Pitcairn Islands\",\"178\":\"Puerto Rico\",\"179\":\"Palestinian Territories\",\"180\":\"Portugal\",\"181\":\"Palau\",\"182\":\"Paraguay\",\"183\":\"Qatar\",\"184\":\"R\\\\u00e9union\",\"185\":\"Romania\",\"186\":\"Serbia\",\"187\":\"Russia\",\"188\":\"Rwanda\",\"189\":\"Saudi Arabia\",\"190\":\"Solomon Islands\",\"191\":\"Seychelles\",\"192\":\"Sudan\",\"193\":\"Sweden\",\"194\":\"Singapore\",\"195\":\"Saint Helena\",\"196\":\"Slovenia\",\"197\":\"Svalbard and Jan Mayen\",\"198\":\"Slovakia\",\"199\":\"Sierra Leone\",\"200\":\"San Marino\",\"201\":\"Senegal\",\"202\":\"Somalia\",\"203\":\"Suriname\",\"204\":\"S\\\\u00e3o Tom\\\\u00e9 and Pr\\\\u00edncipe\",\"205\":\"El Salvador\",\"206\":\"Syria\",\"207\":\"Swaziland\",\"208\":\"Turks and Caicos Islands\",\"209\":\"Chad\",\"210\":\"French Southern Territories\",\"211\":\"Togo\",\"212\":\"Thailand\",\"213\":\"Tajikistan\",\"214\":\"Tokelau\",\"215\":\"Timor-Leste\",\"216\":\"Turkmenistan\",\"217\":\"Tunisia\",\"218\":\"Tonga\",\"219\":\"Turkey\",\"220\":\"Trinidad and Tobago\",\"221\":\"Tuvalu\",\"222\":\"Taiwan\",\"223\":\"Tanzania\",\"224\":\"Ukraine\",\"225\":\"Uganda\",\"226\":\"U.S. Minor Outlying Islands\",\"227\":\"United States\",\"228\":\"Uruguay\",\"229\":\"Uzbekistan\",\"230\":\"Vatican City\",\"231\":\"Saint Vincent and the Grenadines\",\"232\":\"Venezuela\",\"233\":\"British Virgin Islands\",\"234\":\"U.S. Virgin Islands\",\"235\":\"Vietnam\",\"236\":\"Vanuatu\",\"237\":\"Wallis and Futuna\",\"238\":\"Samoa\",\"239\":\"Kosovo\",\"240\":\"Yemen\",\"241\":\"Mayotte\",\"242\":\"South Africa\",\"243\":\"Zambia\",\"244\":\"Zimbabwe\"},\"1\":{\"0\":\"AD\",\"1\":\"AE\",\"2\":\"AF\",\"3\":\"AG\",\"4\":\"AI\",\"5\":\"AL\",\"6\":\"AM\",\"7\":\"AN\",\"8\":\"AO\",\"9\":\"AQ\",\"10\":\"AR\",\"11\":\"AS\",\"12\":\"AT\",\"13\":\"AU\",\"14\":\"AW\",\"15\":\"AZ\",\"16\":\"BA\",\"17\":\"BB\",\"18\":\"BD\",\"19\":\"BE\",\"20\":\"BF\",\"21\":\"BG\",\"22\":\"BH\",\"23\":\"BI\",\"24\":\"BJ\",\"25\":\"BM\",\"26\":\"BN\",\"27\":\"BO\",\"28\":\"BR\",\"29\":\"BS\",\"30\":\"BT\",\"31\":\"BV\",\"32\":\"BW\",\"33\":\"BY\",\"34\":\"BZ\",\"35\":\"CA\",\"36\":\"CC\",\"37\":\"CD\",\"38\":\"CF\",\"39\":\"CG\",\"40\":\"CH\",\"41\":\"CI\",\"42\":\"CK\",\"43\":\"CL\",\"44\":\"CM\",\"45\":\"CN\",\"46\":\"CO\",\"47\":\"CR\",\"48\":\"CU\",\"49\":\"CV\",\"50\":\"CX\",\"51\":\"CY\",\"52\":\"CZ\",\"53\":\"DE\",\"54\":\"DJ\",\"55\":\"DK\",\"56\":\"DM\",\"57\":\"DO\",\"58\":\"DZ\",\"59\":\"EC\",\"60\":\"EE\",\"61\":\"EG\",\"62\":\"EH\",\"63\":\"ER\",\"64\":\"ES\",\"65\":\"ET\",\"66\":\"FI\",\"67\":\"FJ\",\"68\":\"FK\",\"69\":\"FM\",\"70\":\"FO\",\"71\":\"FR\",\"72\":\"GA\",\"73\":\"GB\",\"74\":\"GD\",\"75\":\"GE\",\"76\":\"GF\",\"77\":\"GG\",\"78\":\"GH\",\"79\":\"GI\",\"80\":\"GL\",\"81\":\"GM\",\"82\":\"GN\",\"83\":\"GP\",\"84\":\"GQ\",\"85\":\"GR\",\"86\":\"GS\",\"87\":\"GT\",\"88\":\"GU\",\"89\":\"GW\",\"90\":\"GY\",\"91\":\"GZ\",\"92\":\"HK\",\"93\":\"HM\",\"94\":\"HN\",\"95\":\"HR\",\"96\":\"HT\",\"97\":\"HU\",\"98\":\"ID\",\"99\":\"IE\",\"100\":\"IL\",\"101\":\"IM\",\"102\":\"IN\",\"103\":\"IO\",\"104\":\"IQ\",\"105\":\"IR\",\"106\":\"IS\",\"107\":\"IT\",\"108\":\"JE\",\"109\":\"JM\",\"110\":\"JO\",\"111\":\"JP\",\"112\":\"KE\",\"113\":\"KG\",\"114\":\"KH\",\"115\":\"KI\",\"116\":\"KM\",\"117\":\"KN\",\"118\":\"KP\",\"119\":\"KR\",\"120\":\"KW\",\"121\":\"KY\",\"122\":\"KZ\",\"123\":\"LA\",\"124\":\"LB\",\"125\":\"LC\",\"126\":\"LI\",\"127\":\"LK\",\"128\":\"LR\",\"129\":\"LS\",\"130\":\"LT\",\"131\":\"LU\",\"132\":\"LV\",\"133\":\"LY\",\"134\":\"MA\",\"135\":\"MC\",\"136\":\"MD\",\"137\":\"ME\",\"138\":\"MG\",\"139\":\"MH\",\"140\":\"MK\",\"141\":\"ML\",\"142\":\"MM\",\"143\":\"MN\",\"144\":\"MO\",\"145\":\"MP\",\"146\":\"MQ\",\"147\":\"MR\",\"148\":\"MS\",\"149\":\"MT\",\"150\":\"MU\",\"151\":\"MV\",\"152\":\"MW\",\"153\":\"MX\",\"154\":\"MY\",\"155\":\"MZ\",\"156\":\"NA\",\"157\":\"NC\",\"158\":\"NE\",\"159\":\"NF\",\"160\":\"NG\",\"161\":\"NI\",\"162\":\"NL\",\"163\":\"NO\",\"164\":\"NP\",\"165\":\"NR\",\"166\":\"NU\",\"167\":\"NZ\",\"168\":\"OM\",\"169\":\"PA\",\"170\":\"PE\",\"171\":\"PF\",\"172\":\"PG\",\"173\":\"PH\",\"174\":\"PK\",\"175\":\"PL\",\"176\":\"PM\",\"177\":\"PN\",\"178\":\"PR\",\"179\":\"PS\",\"180\":\"PT\",\"181\":\"PW\",\"182\":\"PY\",\"183\":\"QA\",\"184\":\"RE\",\"185\":\"RO\",\"186\":\"RS\",\"187\":\"RU\",\"188\":\"RW\",\"189\":\"SA\",\"190\":\"SB\",\"191\":\"SC\",\"192\":\"SD\",\"193\":\"SE\",\"194\":\"SG\",\"195\":\"SH\",\"196\":\"SI\",\"197\":\"SJ\",\"198\":\"SK\",\"199\":\"SL\",\"200\":\"SM\",\"201\":\"SN\",\"202\":\"SO\",\"203\":\"SR\",\"204\":\"ST\",\"205\":\"SV\",\"206\":\"SY\",\"207\":\"SZ\",\"208\":\"TC\",\"209\":\"TD\",\"210\":\"TF\",\"211\":\"TG\",\"212\":\"TH\",\"213\":\"TJ\",\"214\":\"TK\",\"215\":\"TL\",\"216\":\"TM\",\"217\":\"TN\",\"218\":\"TO\",\"219\":\"TR\",\"220\":\"TT\",\"221\":\"TV\",\"222\":\"TW\",\"223\":\"TZ\",\"224\":\"UA\",\"225\":\"UG\",\"226\":\"UM\",\"227\":\"US\",\"228\":\"UY\",\"229\":\"UZ\",\"230\":\"VA\",\"231\":\"VC\",\"232\":\"VE\",\"233\":\"VG\",\"234\":\"VI\",\"235\":\"VN\",\"236\":\"VU\",\"237\":\"WF\",\"238\":\"WS\",\"239\":\"XK\",\"240\":\"YE\",\"241\":\"YT\",\"242\":\"ZA\",\"243\":\"ZM\",\"244\":\"ZW\"},\"2\":{\"0\":42.546245,\"1\":23.424076,\"2\":33.93911,\"3\":17.060816,\"4\":18.220554,\"5\":41.153332,\"6\":40.069099,\"7\":12.226079,\"8\":-11.202692,\"9\":-75.250973,\"10\":-38.416097,\"11\":-14.270972,\"12\":47.516231,\"13\":-25.274398,\"14\":12.52111,\"15\":40.143105,\"16\":43.915886,\"17\":13.193887,\"18\":23.684994,\"19\":50.503887,\"20\":12.238333,\"21\":42.733883,\"22\":25.930414,\"23\":-3.373056,\"24\":9.30769,\"25\":32.321384,\"26\":4.535277,\"27\":-16.290154,\"28\":-14.235004,\"29\":25.03428,\"30\":27.514162,\"31\":-54.423199,\"32\":-22.328474,\"33\":53.709807,\"34\":17.189877,\"35\":56.130366,\"36\":-12.164165,\"37\":-4.038333,\"38\":6.611111,\"39\":-0.228021,\"40\":46.818188,\"41\":7.539989,\"42\":-21.236736,\"43\":-35.675147,\"44\":7.369722,\"45\":35.86166,\"46\":4.570868,\"47\":9.748917,\"48\":21.521757,\"49\":16.002082,\"50\":-10.447525,\"51\":35.126413,\"52\":49.817492,\"53\":51.165691,\"54\":11.825138,\"55\":56.26392,\"56\":15.414999,\"57\":18.735693,\"58\":28.033886,\"59\":-1.831239,\"60\":58.595272,\"61\":26.820553,\"62\":24.215527,\"63\":15.179384,\"64\":40.463667,\"65\":9.145,\"66\":61.92411,\"67\":-16.578193,\"68\":-51.796253,\"69\":7.425554,\"70\":61.892635,\"71\":46.227638,\"72\":-0.803689,\"73\":55.378051,\"74\":12.262776,\"75\":42.315407,\"76\":3.933889,\"77\":49.465691,\"78\":7.946527,\"79\":36.137741,\"80\":71.706936,\"81\":13.443182,\"82\":9.945587,\"83\":16.995971,\"84\":1.650801,\"85\":39.074208,\"86\":-54.429579,\"87\":15.783471,\"88\":13.444304,\"89\":11.803749,\"90\":4.860416,\"91\":31.354676,\"92\":22.396428,\"93\":-53.08181,\"94\":15.199999,\"95\":45.1,\"96\":18.971187,\"97\":47.162494,\"98\":-0.789275,\"99\":53.41291,\"100\":31.046051,\"101\":54.236107,\"102\":20.593684,\"103\":-6.343194,\"104\":33.223191,\"105\":32.427908,\"106\":64.963051,\"107\":41.87194,\"108\":49.214439,\"109\":18.109581,\"110\":30.585164,\"111\":36.204824,\"112\":-0.023559,\"113\":41.20438,\"114\":12.565679,\"115\":-3.370417,\"116\":-11.875001,\"117\":17.357822,\"118\":40.339852,\"119\":35.907757,\"120\":29.31166,\"121\":19.513469,\"122\":48.019573,\"123\":19.85627,\"124\":33.854721,\"125\":13.909444,\"126\":47.166,\"127\":7.873054,\"128\":6.428055,\"129\":-29.609988,\"130\":55.169438,\"131\":49.815273,\"132\":56.879635,\"133\":26.3351,\"134\":31.791702,\"135\":43.750298,\"136\":47.411631,\"137\":42.708678,\"138\":-18.766947,\"139\":7.131474,\"140\":41.608635,\"141\":17.570692,\"142\":21.913965,\"143\":46.862496,\"144\":22.198745,\"145\":17.33083,\"146\":14.641528,\"147\":21.00789,\"148\":16.742498,\"149\":35.937496,\"150\":-20.348404,\"151\":3.202778,\"152\":-13.254308,\"153\":23.634501,\"154\":4.210484,\"155\":-18.665695,\"156\":-22.95764,\"157\":-20.904305,\"158\":17.607789,\"159\":-29.040835,\"160\":9.081999,\"161\":12.865416,\"162\":52.132633,\"163\":60.472024,\"164\":28.394857,\"165\":-0.522778,\"166\":-19.054445,\"167\":-40.900557,\"168\":21.512583,\"169\":8.537981,\"170\":-9.189967,\"171\":-17.679742,\"172\":-6.314993,\"173\":12.879721,\"174\":30.375321,\"175\":51.919438,\"176\":46.941936,\"177\":-24.703615,\"178\":18.220833,\"179\":31.952162,\"180\":39.399872,\"181\":7.51498,\"182\":-23.442503,\"183\":25.354826,\"184\":-21.115141,\"185\":45.943161,\"186\":44.016521,\"187\":61.52401,\"188\":-1.940278,\"189\":23.885942,\"190\":-9.64571,\"191\":-4.679574,\"192\":12.862807,\"193\":60.128161,\"194\":1.352083,\"195\":-24.143474,\"196\":46.151241,\"197\":77.553604,\"198\":48.669026,\"199\":8.460555,\"200\":43.94236,\"201\":14.497401,\"202\":5.152149,\"203\":3.919305,\"204\":0.18636,\"205\":13.794185,\"206\":34.802075,\"207\":-26.522503,\"208\":21.694025,\"209\":15.454166,\"210\":-49.280366,\"211\":8.619543,\"212\":15.870032,\"213\":38.861034,\"214\":-8.967363,\"215\":-8.874217,\"216\":38.969719,\"217\":33.886917,\"218\":-21.178986,\"219\":38.963745,\"220\":10.691803,\"221\":-7.109535,\"222\":23.69781,\"223\":-6.369028,\"224\":48.379433,\"225\":1.373333,\"226\":null,\"227\":37.09024,\"228\":-32.522779,\"229\":41.377491,\"230\":41.902916,\"231\":12.984305,\"232\":6.42375,\"233\":18.420695,\"234\":18.335765,\"235\":14.058324,\"236\":-15.376706,\"237\":-13.768752,\"238\":-13.759029,\"239\":42.602636,\"240\":15.552727,\"241\":-12.8275,\"242\":-30.559482,\"243\":-13.133897,\"244\":-19.015438},\"3\":{\"0\":1.601554,\"1\":53.847818,\"2\":67.709953,\"3\":-61.796428,\"4\":-63.068615,\"5\":20.168331,\"6\":45.038189,\"7\":-69.060087,\"8\":17.873887,\"9\":-0.071389,\"10\":-63.616672,\"11\":-170.132217,\"12\":14.550072,\"13\":133.775136,\"14\":-69.968338,\"15\":47.576927,\"16\":17.679076,\"17\":-59.543198,\"18\":90.356331,\"19\":4.469936,\"20\":-1.561593,\"21\":25.48583,\"22\":50.637772,\"23\":29.918886,\"24\":2.315834,\"25\":-64.75737,\"26\":114.727669,\"27\":-63.588653,\"28\":-51.92528,\"29\":-77.39628,\"30\":90.433601,\"31\":3.413194,\"32\":24.684866,\"33\":27.953389,\"34\":-88.49765,\"35\":-106.346771,\"36\":96.870956,\"37\":21.758664,\"38\":20.939444,\"39\":15.827659,\"40\":8.227512,\"41\":-5.54708,\"42\":-159.777671,\"43\":-71.542969,\"44\":12.354722,\"45\":104.195397,\"46\":-74.297333,\"47\":-83.753428,\"48\":-77.781167,\"49\":-24.013197,\"50\":105.690449,\"51\":33.429859,\"52\":15.472962,\"53\":10.451526,\"54\":42.590275,\"55\":9.501785,\"56\":-61.370976,\"57\":-70.162651,\"58\":1.659626,\"59\":-78.183406,\"60\":25.013607,\"61\":30.802498,\"62\":-12.885834,\"63\":39.782334,\"64\":-3.74922,\"65\":40.489673,\"66\":25.748151,\"67\":179.414413,\"68\":-59.523613,\"69\":150.550812,\"70\":-6.911806,\"71\":2.213749,\"72\":11.609444,\"73\":-3.435973,\"74\":-61.604171,\"75\":43.356892,\"76\":-53.125782,\"77\":-2.585278,\"78\":-1.023194,\"79\":-5.345374,\"80\":-42.604303,\"81\":-15.310139,\"82\":-9.696645,\"83\":-62.067641,\"84\":10.267895,\"85\":21.824312,\"86\":-36.587909,\"87\":-90.230759,\"88\":144.793731,\"89\":-15.180413,\"90\":-58.93018,\"91\":34.308825,\"92\":114.109497,\"93\":73.504158,\"94\":-86.241905,\"95\":15.2,\"96\":-72.285215,\"97\":19.503304,\"98\":113.921327,\"99\":-8.24389,\"100\":34.851612,\"101\":-4.548056,\"102\":78.96288,\"103\":71.876519,\"104\":43.679291,\"105\":53.688046,\"106\":-19.020835,\"107\":12.56738,\"108\":-2.13125,\"109\":-77.297508,\"110\":36.238414,\"111\":138.252924,\"112\":37.906193,\"113\":74.766098,\"114\":104.990963,\"115\":-168.734039,\"116\":43.872219,\"117\":-62.782998,\"118\":127.510093,\"119\":127.766922,\"120\":47.481766,\"121\":-80.566956,\"122\":66.923684,\"123\":102.495496,\"124\":35.862285,\"125\":-60.978893,\"126\":9.555373,\"127\":80.771797,\"128\":-9.429499,\"129\":28.233608,\"130\":23.881275,\"131\":6.129583,\"132\":24.603189,\"133\":17.228331,\"134\":-7.09262,\"135\":7.412841,\"136\":28.369885,\"137\":19.37439,\"138\":46.869107,\"139\":171.184478,\"140\":21.745275,\"141\":-3.996166,\"142\":95.956223,\"143\":103.846656,\"144\":113.543873,\"145\":145.38469,\"146\":-61.024174,\"147\":-10.940835,\"148\":-62.187366,\"149\":14.375416,\"150\":57.552152,\"151\":73.22068,\"152\":34.301525,\"153\":-102.552784,\"154\":101.975766,\"155\":35.529562,\"156\":18.49041,\"157\":165.618042,\"158\":8.081666,\"159\":167.954712,\"160\":8.675277,\"161\":-85.207229,\"162\":5.291266,\"163\":8.468946,\"164\":84.124008,\"165\":166.931503,\"166\":-169.867233,\"167\":174.885971,\"168\":55.923255,\"169\":-80.782127,\"170\":-75.015152,\"171\":-149.406843,\"172\":143.95555,\"173\":121.774017,\"174\":69.345116,\"175\":19.145136,\"176\":-56.27111,\"177\":-127.439308,\"178\":-66.590149,\"179\":35.233154,\"180\":-8.224454,\"181\":134.58252,\"182\":-58.443832,\"183\":51.183884,\"184\":55.536384,\"185\":24.96676,\"186\":21.005859,\"187\":105.318756,\"188\":29.873888,\"189\":45.079162,\"190\":160.156194,\"191\":55.491977,\"192\":30.217636,\"193\":18.643501,\"194\":103.819836,\"195\":-10.030696,\"196\":14.995463,\"197\":23.670272,\"198\":19.699024,\"199\":-11.779889,\"200\":12.457777,\"201\":-14.452362,\"202\":46.199616,\"203\":-56.027783,\"204\":6.613081,\"205\":-88.89653,\"206\":38.996815,\"207\":31.465866,\"208\":-71.797928,\"209\":18.732207,\"210\":69.348557,\"211\":0.824782,\"212\":100.992541,\"213\":71.276093,\"214\":-171.855881,\"215\":125.727539,\"216\":59.556278,\"217\":9.537499,\"218\":-175.198242,\"219\":35.243322,\"220\":-61.222503,\"221\":177.64933,\"222\":120.960515,\"223\":34.888822,\"224\":31.16558,\"225\":32.290275,\"226\":null,\"227\":-95.712891,\"228\":-55.765835,\"229\":64.585262,\"230\":12.453389,\"231\":-61.287228,\"232\":-66.58973,\"233\":-64.639968,\"234\":-64.896335,\"235\":108.277199,\"236\":166.959158,\"237\":-177.156097,\"238\":-172.104629,\"239\":20.902977,\"240\":48.516388,\"241\":45.166244,\"242\":22.937506,\"243\":27.849332,\"244\":29.154857}}'"
      ]
     },
     "execution_count": 145,
     "metadata": {},
     "output_type": "execute_result"
    }
   ],
   "source": [
    "pd.DataFrame(results).to_json(orient='columns')"
   ]
  },
  {
   "cell_type": "code",
   "execution_count": 71,
   "metadata": {},
   "outputs": [
    {
     "data": {
      "text/plain": [
       "'[\"Andorra\", \"AD\", \"42.546245\", \"1.601554\", \"United Arab Emirates\", \"AE\", \"23.424076\", \"53.847818\", \"Afghanistan\", \"AF\", \"33.93911\", \"67.709953\", \"Antigua and Barbuda\", \"AG\", \"17.060816\", \"-61.796428\", \"Anguilla\", \"AI\", \"18.220554\", \"-63.068615\", \"Albania\", \"AL\", \"41.153332\", \"20.168331\", \"Armenia\", \"AM\", \"40.069099\", \"45.038189\", \"Netherlands Antilles\", \"AN\", \"12.226079\", \"-69.060087\", \"Angola\", \"AO\", \"-11.202692\", \"17.873887\", \"Antarctica\", \"AQ\", \"-75.250973\", \"-0.071389\", \"Argentina\", \"AR\", \"-38.416097\", \"-63.616672\", \"American Samoa\", \"AS\", \"-14.270972\", \"-170.132217\", \"Austria\", \"AT\", \"47.516231\", \"14.550072\", \"Australia\", \"AU\", \"-25.274398\", \"133.775136\", \"Aruba\", \"AW\", \"12.52111\", \"-69.968338\", \"Azerbaijan\", \"AZ\", \"40.143105\", \"47.576927\", \"Bosnia and Herzegovina\", \"BA\", \"43.915886\", \"17.679076\", \"Barbados\", \"BB\", \"13.193887\", \"-59.543198\", \"Bangladesh\", \"BD\", \"23.684994\", \"90.356331\", \"Belgium\", \"BE\", \"50.503887\", \"4.469936\", \"Burkina Faso\", \"BF\", \"12.238333\", \"-1.561593\", \"Bulgaria\", \"BG\", \"42.733883\", \"25.48583\", \"Bahrain\", \"BH\", \"25.930414\", \"50.637772\", \"Burundi\", \"BI\", \"-3.373056\", \"29.918886\", \"Benin\", \"BJ\", \"9.30769\", \"2.315834\", \"Bermuda\", \"BM\", \"32.321384\", \"-64.75737\", \"Brunei\", \"BN\", \"4.535277\", \"114.727669\", \"Bolivia\", \"BO\", \"-16.290154\", \"-63.588653\", \"Brazil\", \"BR\", \"-14.235004\", \"-51.92528\", \"Bahamas\", \"BS\", \"25.03428\", \"-77.39628\", \"Bhutan\", \"BT\", \"27.514162\", \"90.433601\", \"Bouvet Island\", \"BV\", \"-54.423199\", \"3.413194\", \"Botswana\", \"BW\", \"-22.328474\", \"24.684866\", \"Belarus\", \"BY\", \"53.709807\", \"27.953389\", \"Belize\", \"BZ\", \"17.189877\", \"-88.49765\", \"Canada\", \"CA\", \"56.130366\", \"-106.346771\", \"Cocos [Keeling] Islands\", \"CC\", \"-12.164165\", \"96.870956\", \"Congo [DRC]\", \"CD\", \"-4.038333\", \"21.758664\", \"Central African Republic\", \"CF\", \"6.611111\", \"20.939444\", \"Congo [Republic]\", \"CG\", \"-0.228021\", \"15.827659\", \"Switzerland\", \"CH\", \"46.818188\", \"8.227512\", \"Côte d\"Ivoire\", \"CI\", \"7.539989\", \"-5.54708\", \"Cook Islands\", \"CK\", \"-21.236736\", \"-159.777671\", \"Chile\", \"CL\", \"-35.675147\", \"-71.542969\", \"Cameroon\", \"CM\", \"7.369722\", \"12.354722\", \"China\", \"CN\", \"35.86166\", \"104.195397\", \"Colombia\", \"CO\", \"4.570868\", \"-74.297333\", \"Costa Rica\", \"CR\", \"9.748917\", \"-83.753428\", \"Cuba\", \"CU\", \"21.521757\", \"-77.781167\", \"Cape Verde\", \"CV\", \"16.002082\", \"-24.013197\", \"Christmas Island\", \"CX\", \"-10.447525\", \"105.690449\", \"Cyprus\", \"CY\", \"35.126413\", \"33.429859\", \"Czech Republic\", \"CZ\", \"49.817492\", \"15.472962\", \"Germany\", \"DE\", \"51.165691\", \"10.451526\", \"Djibouti\", \"DJ\", \"11.825138\", \"42.590275\", \"Denmark\", \"DK\", \"56.26392\", \"9.501785\", \"Dominica\", \"DM\", \"15.414999\", \"-61.370976\", \"Dominican Republic\", \"DO\", \"18.735693\", \"-70.162651\", \"Algeria\", \"DZ\", \"28.033886\", \"1.659626\", \"Ecuador\", \"EC\", \"-1.831239\", \"-78.183406\", \"Estonia\", \"EE\", \"58.595272\", \"25.013607\", \"Egypt\", \"EG\", \"26.820553\", \"30.802498\", \"Western Sahara\", \"EH\", \"24.215527\", \"-12.885834\", \"Eritrea\", \"ER\", \"15.179384\", \"39.782334\", \"Spain\", \"ES\", \"40.463667\", \"-3.74922\", \"Ethiopia\", \"ET\", \"9.145\", \"40.489673\", \"Finland\", \"FI\", \"61.92411\", \"25.748151\", \"Fiji\", \"FJ\", \"-16.578193\", \"179.414413\", \"Falkland Islands [Islas Malvinas]\", \"FK\", \"-51.796253\", \"-59.523613\", \"Micronesia\", \"FM\", \"7.425554\", \"150.550812\", \"Faroe Islands\", \"FO\", \"61.892635\", \"-6.911806\", \"France\", \"FR\", \"46.227638\", \"2.213749\", \"Gabon\", \"GA\", \"-0.803689\", \"11.609444\", \"United Kingdom\", \"GB\", \"55.378051\", \"-3.435973\", \"Grenada\", \"GD\", \"12.262776\", \"-61.604171\", \"Georgia\", \"GE\", \"42.315407\", \"43.356892\", \"French Guiana\", \"GF\", \"3.933889\", \"-53.125782\", \"Guernsey\", \"GG\", \"49.465691\", \"-2.585278\", \"Ghana\", \"GH\", \"7.946527\", \"-1.023194\", \"Gibraltar\", \"GI\", \"36.137741\", \"-5.345374\", \"Greenland\", \"GL\", \"71.706936\", \"-42.604303\", \"Gambia\", \"GM\", \"13.443182\", \"-15.310139\", \"Guinea\", \"GN\", \"9.945587\", \"-9.696645\", \"Guadeloupe\", \"GP\", \"16.995971\", \"-62.067641\", \"Equatorial Guinea\", \"GQ\", \"1.650801\", \"10.267895\", \"Greece\", \"GR\", \"39.074208\", \"21.824312\", \"South Georgia and the South Sandwich Islands\", \"GS\", \"-54.429579\", \"-36.587909\", \"Guatemala\", \"GT\", \"15.783471\", \"-90.230759\", \"Guam\", \"GU\", \"13.444304\", \"144.793731\", \"Guinea-Bissau\", \"GW\", \"11.803749\", \"-15.180413\", \"Guyana\", \"GY\", \"4.860416\", \"-58.93018\", \"Gaza Strip\", \"GZ\", \"31.354676\", \"34.308825\", \"Hong Kong\", \"HK\", \"22.396428\", \"114.109497\", \"Heard Island and McDonald Islands\", \"HM\", \"-53.08181\", \"73.504158\", \"Honduras\", \"HN\", \"15.199999\", \"-86.241905\", \"Croatia\", \"HR\", \"45.1\", \"15.2\", \"Haiti\", \"HT\", \"18.971187\", \"-72.285215\", \"Hungary\", \"HU\", \"47.162494\", \"19.503304\", \"Indonesia\", \"ID\", \"-0.789275\", \"113.921327\", \"Ireland\", \"IE\", \"53.41291\", \"-8.24389\", \"Israel\", \"IL\", \"31.046051\", \"34.851612\", \"Isle of Man\", \"IM\", \"54.236107\", \"-4.548056\", \"India\", \"IN\", \"20.593684\", \"78.96288\", \"British Indian Ocean Territory\", \"IO\", \"-6.343194\", \"71.876519\", \"Iraq\", \"IQ\", \"33.223191\", \"43.679291\", \"Iran\", \"IR\", \"32.427908\", \"53.688046\", \"Iceland\", \"IS\", \"64.963051\", \"-19.020835\", \"Italy\", \"IT\", \"41.87194\", \"12.56738\", \"Jersey\", \"JE\", \"49.214439\", \"-2.13125\", \"Jamaica\", \"JM\", \"18.109581\", \"-77.297508\", \"Jordan\", \"JO\", \"30.585164\", \"36.238414\", \"Japan\", \"JP\", \"36.204824\", \"138.252924\", \"Kenya\", \"KE\", \"-0.023559\", \"37.906193\", \"Kyrgyzstan\", \"KG\", \"41.20438\", \"74.766098\", \"Cambodia\", \"KH\", \"12.565679\", \"104.990963\", \"Kiribati\", \"KI\", \"-3.370417\", \"-168.734039\", \"Comoros\", \"KM\", \"-11.875001\", \"43.872219\", \"Saint Kitts and Nevis\", \"KN\", \"17.357822\", \"-62.782998\", \"North Korea\", \"KP\", \"40.339852\", \"127.510093\", \"South Korea\", \"KR\", \"35.907757\", \"127.766922\", \"Kuwait\", \"KW\", \"29.31166\", \"47.481766\", \"Cayman Islands\", \"KY\", \"19.513469\", \"-80.566956\", \"Kazakhstan\", \"KZ\", \"48.019573\", \"66.923684\", \"Laos\", \"LA\", \"19.85627\", \"102.495496\", \"Lebanon\", \"LB\", \"33.854721\", \"35.862285\", \"Saint Lucia\", \"LC\", \"13.909444\", \"-60.978893\", \"Liechtenstein\", \"LI\", \"47.166\", \"9.555373\", \"Sri Lanka\", \"LK\", \"7.873054\", \"80.771797\", \"Liberia\", \"LR\", \"6.428055\", \"-9.429499\", \"Lesotho\", \"LS\", \"-29.609988\", \"28.233608\", \"Lithuania\", \"LT\", \"55.169438\", \"23.881275\", \"Luxembourg\", \"LU\", \"49.815273\", \"6.129583\", \"Latvia\", \"LV\", \"56.879635\", \"24.603189\", \"Libya\", \"LY\", \"26.3351\", \"17.228331\", \"Morocco\", \"MA\", \"31.791702\", \"-7.09262\", \"Monaco\", \"MC\", \"43.750298\", \"7.412841\", \"Moldova\", \"MD\", \"47.411631\", \"28.369885\", \"Montenegro\", \"ME\", \"42.708678\", \"19.37439\", \"Madagascar\", \"MG\", \"-18.766947\", \"46.869107\", \"Marshall Islands\", \"MH\", \"7.131474\", \"171.184478\", \"Macedonia [FYROM]\", \"MK\", \"41.608635\", \"21.745275\", \"Mali\", \"ML\", \"17.570692\", \"-3.996166\", \"Myanmar [Burma]\", \"MM\", \"21.913965\", \"95.956223\", \"Mongolia\", \"MN\", \"46.862496\", \"103.846656\", \"Macau\", \"MO\", \"22.198745\", \"113.543873\", \"Northern Mariana Islands\", \"MP\", \"17.33083\", \"145.38469\", \"Martinique\", \"MQ\", \"14.641528\", \"-61.024174\", \"Mauritania\", \"MR\", \"21.00789\", \"-10.940835\", \"Montserrat\", \"MS\", \"16.742498\", \"-62.187366\", \"Malta\", \"MT\", \"35.937496\", \"14.375416\", \"Mauritius\", \"MU\", \"-20.348404\", \"57.552152\", \"Maldives\", \"MV\", \"3.202778\", \"73.22068\", \"Malawi\", \"MW\", \"-13.254308\", \"34.301525\", \"Mexico\", \"MX\", \"23.634501\", \"-102.552784\", \"Malaysia\", \"MY\", \"4.210484\", \"101.975766\", \"Mozambique\", \"MZ\", \"-18.665695\", \"35.529562\", \"Namibia\", \"NA\", \"-22.95764\", \"18.49041\", \"New Caledonia\", \"NC\", \"-20.904305\", \"165.618042\", \"Niger\", \"NE\", \"17.607789\", \"8.081666\", \"Norfolk Island\", \"NF\", \"-29.040835\", \"167.954712\", \"Nigeria\", \"NG\", \"9.081999\", \"8.675277\", \"Nicaragua\", \"NI\", \"12.865416\", \"-85.207229\", \"Netherlands\", \"NL\", \"52.132633\", \"5.291266\", \"Norway\", \"NO\", \"60.472024\", \"8.468946\", \"Nepal\", \"NP\", \"28.394857\", \"84.124008\", \"Nauru\", \"NR\", \"-0.522778\", \"166.931503\", \"Niue\", \"NU\", \"-19.054445\", \"-169.867233\", \"New Zealand\", \"NZ\", \"-40.900557\", \"174.885971\", \"Oman\", \"OM\", \"21.512583\", \"55.923255\", \"Panama\", \"PA\", \"8.537981\", \"-80.782127\", \"Peru\", \"PE\", \"-9.189967\", \"-75.015152\", \"French Polynesia\", \"PF\", \"-17.679742\", \"-149.406843\", \"Papua New Guinea\", \"PG\", \"-6.314993\", \"143.95555\", \"Philippines\", \"PH\", \"12.879721\", \"121.774017\", \"Pakistan\", \"PK\", \"30.375321\", \"69.345116\", \"Poland\", \"PL\", \"51.919438\", \"19.145136\", \"Saint Pierre and Miquelon\", \"PM\", \"46.941936\", \"-56.27111\", \"Pitcairn Islands\", \"PN\", \"-24.703615\", \"-127.439308\", \"Puerto Rico\", \"PR\", \"18.220833\", \"-66.590149\", \"Palestinian Territories\", \"PS\", \"31.952162\", \"35.233154\", \"Portugal\", \"PT\", \"39.399872\", \"-8.224454\", \"Palau\", \"PW\", \"7.51498\", \"134.58252\", \"Paraguay\", \"PY\", \"-23.442503\", \"-58.443832\", \"Qatar\", \"QA\", \"25.354826\", \"51.183884\", \"Réunion\", \"RE\", \"-21.115141\", \"55.536384\", \"Romania\", \"RO\", \"45.943161\", \"24.96676\", \"Serbia\", \"RS\", \"44.016521\", \"21.005859\", \"Russia\", \"RU\", \"61.52401\", \"105.318756\", \"Rwanda\", \"RW\", \"-1.940278\", \"29.873888\", \"Saudi Arabia\", \"SA\", \"23.885942\", \"45.079162\", \"Solomon Islands\", \"SB\", \"-9.64571\", \"160.156194\", \"Seychelles\", \"SC\", \"-4.679574\", \"55.491977\", \"Sudan\", \"SD\", \"12.862807\", \"30.217636\", \"Sweden\", \"SE\", \"60.128161\", \"18.643501\", \"Singapore\", \"SG\", \"1.352083\", \"103.819836\", \"Saint Helena\", \"SH\", \"-24.143474\", \"-10.030696\", \"Slovenia\", \"SI\", \"46.151241\", \"14.995463\", \"Svalbard and Jan Mayen\", \"SJ\", \"77.553604\", \"23.670272\", \"Slovakia\", \"SK\", \"48.669026\", \"19.699024\", \"Sierra Leone\", \"SL\", \"8.460555\", \"-11.779889\", \"San Marino\", \"SM\", \"43.94236\", \"12.457777\", \"Senegal\", \"SN\", \"14.497401\", \"-14.452362\", \"Somalia\", \"SO\", \"5.152149\", \"46.199616\", \"Suriname\", \"SR\", \"3.919305\", \"-56.027783\", \"São Tomé and Príncipe\", \"ST\", \"0.18636\", \"6.613081\", \"El Salvador\", \"SV\", \"13.794185\", \"-88.89653\", \"Syria\", \"SY\", \"34.802075\", \"38.996815\", \"Swaziland\", \"SZ\", \"-26.522503\", \"31.465866\", \"Turks and Caicos Islands\", \"TC\", \"21.694025\", \"-71.797928\", \"Chad\", \"TD\", \"15.454166\", \"18.732207\", \"French Southern Territories\", \"TF\", \"-49.280366\", \"69.348557\", \"Togo\", \"TG\", \"8.619543\", \"0.824782\", \"Thailand\", \"TH\", \"15.870032\", \"100.992541\", \"Tajikistan\", \"TJ\", \"38.861034\", \"71.276093\", \"Tokelau\", \"TK\", \"-8.967363\", \"-171.855881\", \"Timor-Leste\", \"TL\", \"-8.874217\", \"125.727539\", \"Turkmenistan\", \"TM\", \"38.969719\", \"59.556278\", \"Tunisia\", \"TN\", \"33.886917\", \"9.537499\", \"Tonga\", \"TO\", \"-21.178986\", \"-175.198242\", \"Turkey\", \"TR\", \"38.963745\", \"35.243322\", \"Trinidad and Tobago\", \"TT\", \"10.691803\", \"-61.222503\", \"Tuvalu\", \"TV\", \"-7.109535\", \"177.64933\", \"Taiwan\", \"TW\", \"23.69781\", \"120.960515\", \"Tanzania\", \"TZ\", \"-6.369028\", \"34.888822\", \"Ukraine\", \"UA\", \"48.379433\", \"31.16558\", \"Uganda\", \"UG\", \"1.373333\", \"32.290275\", \"U.S. Minor Outlying Islands\", \"UM\", None, None, \"United States\", \"US\", \"37.09024\", \"-95.712891\", \"Uruguay\", \"UY\", \"-32.522779\", \"-55.765835\", \"Uzbekistan\", \"UZ\", \"41.377491\", \"64.585262\", \"Vatican City\", \"VA\", \"41.902916\", \"12.453389\", \"Saint Vincent and the Grenadines\", \"VC\", \"12.984305\", \"-61.287228\", \"Venezuela\", \"VE\", \"6.42375\", \"-66.58973\", \"British Virgin Islands\", \"VG\", \"18.420695\", \"-64.639968\", \"U.S. Virgin Islands\", \"VI\", \"18.335765\", \"-64.896335\", \"Vietnam\", \"VN\", \"14.058324\", \"108.277199\", \"Vanuatu\", \"VU\", \"-15.376706\", \"166.959158\", \"Wallis and Futuna\", \"WF\", \"-13.768752\", \"-177.156097\", \"Samoa\", \"WS\", \"-13.759029\", \"-172.104629\", \"Kosovo\", \"XK\", \"42.602636\", \"20.902977\", \"Yemen\", \"YE\", \"15.552727\", \"48.516388\", \"Mayotte\", \"YT\", \"-12.8275\", \"45.166244\", \"South Africa\", \"ZA\", \"-30.559482\", \"22.937506\", \"Zambia\", \"ZM\", \"-13.133897\", \"27.849332\", \"Zimbabwe\", \"ZW\", \"-19.015438\", \"29.154857\"]'"
      ]
     },
     "execution_count": 71,
     "metadata": {},
     "output_type": "execute_result"
    }
   ],
   "source": [
    "w.replace(\"'[\",'\"[')"
   ]
  },
  {
   "cell_type": "code",
   "execution_count": null,
   "metadata": {},
   "outputs": [],
   "source": [
    "table=\"c19\"\n",
    "i=0\n",
    "columns = inspector.get_columns(table)\n",
    "for column in columns:\n",
    "    if i==0:\n",
    "        queryList= table+\".\"+column[\"name\"]\n",
    "    else:\n",
    "        queryList= queryList+ \",\"+ table+\".\"+column[\"name\"]\n",
    "    i=i+1\n",
    "    \n",
    "queryList\n",
    "    "
   ]
  },
  {
   "cell_type": "code",
   "execution_count": null,
   "metadata": {},
   "outputs": [],
   "source": [
    "session = Session(engine)\n",
    "results = session.query(queryList).all()\n",
    "session.close()\n",
    "len(results)"
   ]
  },
  {
   "cell_type": "code",
   "execution_count": null,
   "metadata": {},
   "outputs": [],
   "source": []
  },
  {
   "cell_type": "code",
   "execution_count": null,
   "metadata": {},
   "outputs": [],
   "source": []
  },
  {
   "cell_type": "code",
   "execution_count": null,
   "metadata": {},
   "outputs": [],
   "source": [
    "LatestDate=np.ravel(session.query(Measurement.date).order_by(Measurement.date.desc()).first())"
   ]
  }
 ],
 "metadata": {
  "kernelspec": {
   "display_name": "Python 3",
   "language": "python",
   "name": "python3"
  },
  "language_info": {
   "codemirror_mode": {
    "name": "ipython",
    "version": 3
   },
   "file_extension": ".py",
   "mimetype": "text/x-python",
   "name": "python",
   "nbconvert_exporter": "python",
   "pygments_lexer": "ipython3",
   "version": "3.7.6"
  }
 },
 "nbformat": 4,
 "nbformat_minor": 4
}
